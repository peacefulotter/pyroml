{
 "cells": [
  {
   "cell_type": "markdown",
   "metadata": {},
   "source": [
    "# WIP"
   ]
  },
  {
   "cell_type": "code",
   "execution_count": null,
   "metadata": {},
   "outputs": [],
   "source": [
    "%load_ext autoreload\n",
    "%autoreload 2"
   ]
  },
  {
   "cell_type": "code",
   "execution_count": null,
   "metadata": {},
   "outputs": [],
   "source": [
    "import torch\n",
    "import torch.nn as nn\n",
    "import torch.nn.functional as F\n",
    "\n",
    "from torchmetrics import Accuracy\n",
    "\n",
    "from pyroml import PyroModule, Trainer, Stage\n",
    "from pyroml.models import Backbone, TimmBackbone\n",
    "from pyroml.models.utils import get_features"
   ]
  },
  {
   "cell_type": "code",
   "execution_count": null,
   "metadata": {},
   "outputs": [],
   "source": [
    "class PyroTeacher(PyroModule):\n",
    "    def __init__(self, teacher: TimmBackbone):\n",
    "        super().__init__()\n",
    "        self.teacher = teacher\n",
    "\n",
    "    @property\n",
    "    def last_dim(self) -> int:\n",
    "        return self.teacher.last_dim[0]\n",
    "\n",
    "    def forward(self, x):\n",
    "        return self.teacher(x)\n",
    "\n",
    "    def step(self, batch, stage):\n",
    "        return self(batch[\"image\"])\n"
   ]
  },
  {
   "cell_type": "code",
   "execution_count": null,
   "metadata": {},
   "outputs": [],
   "source": [
    "teacher = Backbone.load(\"resnet18\", num_classes=0)\n",
    "teacher = PyroTeacher(teacher)\n",
    "teacher.eval()"
   ]
  },
  {
   "cell_type": "code",
   "execution_count": null,
   "metadata": {},
   "outputs": [],
   "source": [
    "teacher.last_dim"
   ]
  },
  {
   "cell_type": "code",
   "execution_count": null,
   "metadata": {},
   "outputs": [],
   "source": [
    "from torchvision.tv_tensors import Image\n",
    "from pyroml.template.flowers102.dataset import Flowers102Dataset\n",
    "from torchvision.transforms import v2\n",
    "\n",
    "class ToBoundedFloat(nn.Module):\n",
    "    def forward(self, img: Image):\n",
    "        return (img / 255.).float()\n",
    "    \n",
    "transform =v2.Compose([\n",
    "    v2.ToImage(),\n",
    "    ToBoundedFloat(),\n",
    "    v2.Resize((224, 224)),\n",
    "    v2.Normalize(mean=(0.485, 0.456, 0.406), std=(0.229, 0.224, 0.225))\n",
    "])\n",
    "tr_ds = Flowers102Dataset(split=\"train\", transform=transform)\n",
    "te_ds = Flowers102Dataset(split=\"test\", transform=transform)\n",
    "\n",
    "(\n",
    "    len(tr_ds),\n",
    "    len(te_ds),\n",
    "    tr_ds[0].keys(),\n",
    "    tr_ds[0][\"image\"].shape,\n",
    ")\n"
   ]
  },
  {
   "cell_type": "code",
   "execution_count": null,
   "metadata": {},
   "outputs": [],
   "source": [
    "# Preccompute teacher features to avoid wasting ressources during student training  \n",
    "tr_feats = get_features(teacher, tr_ds, dtype=torch.bfloat16, batch_size=16)\n",
    "te_feats = get_features(teacher, te_ds, dtype=torch.bfloat16, batch_size=16)"
   ]
  },
  {
   "cell_type": "code",
   "execution_count": null,
   "metadata": {},
   "outputs": [],
   "source": [
    "class Flowers102FeatsDataset(torch.utils.data.Dataset):\n",
    "    \"\"\"\n",
    "    Uses the precomputed features from SmolVLM vision model and the dataset labels\n",
    "    \"\"\"\n",
    "\n",
    "    def __init__(self, feats: torch.Tensor, dataset: Flowers102Dataset):\n",
    "        assert len(feats) == len(dataset)\n",
    "        self.feats = feats\n",
    "        self.dataset = dataset\n",
    "\n",
    "    def __len__(self):\n",
    "        return len(self.dataset)\n",
    "\n",
    "    def __getitem__(self, idx):\n",
    "        item = self.dataset[idx]\n",
    "        item['feat'] = self.feats[idx]\n",
    "        return item"
   ]
  },
  {
   "cell_type": "code",
   "execution_count": null,
   "metadata": {},
   "outputs": [],
   "source": [
    "tr_feats_ds = Flowers102FeatsDataset(feats=tr_feats, dataset=tr_ds)\n",
    "te_feats_ds = Flowers102FeatsDataset(feats=te_feats, dataset=te_ds)"
   ]
  },
  {
   "cell_type": "code",
   "execution_count": null,
   "metadata": {},
   "outputs": [],
   "source": [
    "class StudentModule(PyroModule):\n",
    "    def __init__(\n",
    "        self,\n",
    "        teacher: TimmBackbone,\n",
    "        temperature: float = 2,\n",
    "        alpha: float = 1,\n",
    "        num_classes: int = 102,\n",
    "    ):\n",
    "        super().__init__()\n",
    "        self.teacher = teacher\n",
    "        self.temperature = temperature\n",
    "        self.alpha = alpha\n",
    "        self.student = nn.Sequential(\n",
    "            nn.Conv2d(3, 6, 3),\n",
    "            nn.BatchNorm2d(6),\n",
    "            nn.ReLU(),\n",
    "            nn.MaxPool2d(2),\n",
    "            nn.Conv2d(6, 24, 3),\n",
    "            nn.BatchNorm2d(24),\n",
    "            nn.ReLU(),\n",
    "            nn.MaxPool2d(2),\n",
    "            nn.Conv2d(24, 48, 3),\n",
    "            nn.BatchNorm2d(48),\n",
    "            nn.ReLU(),\n",
    "            nn.MaxPool2d(4),\n",
    "            nn.Conv2d(48, 96, 3),\n",
    "            nn.BatchNorm2d(96),\n",
    "            nn.ReLU(),\n",
    "            nn.Conv2d(96, 8, 1),\n",
    "            nn.Flatten(),\n",
    "            nn.Linear(968, teacher.last_dim),\n",
    "        )\n",
    "        self.student_head = nn.Sequential(\n",
    "            nn.ReLU(), nn.Linear(teacher.last_dim, num_classes)\n",
    "        )\n",
    "\n",
    "        self.soft_loss = nn.KLDivLoss(reduction=\"batchmean\")\n",
    "        self.hard_loss = nn.CrossEntropyLoss()\n",
    "\n",
    "        metrics_kwargs = dict(\n",
    "            task=\"multiclass\", num_classes=num_classes, average=\"macro\"\n",
    "        )\n",
    "        self.acc = Accuracy(**metrics_kwargs)\n",
    "        self.acc_5 = Accuracy(**metrics_kwargs, top_k=5)\n",
    "\n",
    "    def configure_optimizers(self, loop):\n",
    "        self.optimizer = torch.optim.Adam(self.student.parameters(), lr=self.trainer.lr)\n",
    "\n",
    "    def train(self, mode=True):\n",
    "        # Prevent the teacher to switch to train mode\n",
    "        return self.student.train(mode=mode)\n",
    "\n",
    "    def forward(self, x) -> dict[str, torch.Tensor]:\n",
    "        logits = self.student(x)\n",
    "        preds = self.student_head(logits)\n",
    "        return {\"logits\": logits, \"preds\": preds}\n",
    "\n",
    "    def step(self, batch, stage) -> torch.Tensor:\n",
    "        x, teacher_logits, label = batch[\"image\"], batch[\"feat\"], batch[\"label\"]\n",
    "\n",
    "        student_x = self(x)\n",
    "        student_logits = student_x[\"logits\"]\n",
    "        student_preds = student_x[\"preds\"]\n",
    "\n",
    "        soft_teacher = F.softmax(teacher_logits / self.temperature, dim=-1)\n",
    "        soft_student = F.log_softmax(student_logits / self.temperature, dim=-1)\n",
    "        soft_loss = self.soft_loss(soft_student, soft_teacher) * self.temperature**2\n",
    "\n",
    "        hard_loss = self.hard_loss(student_preds, label)\n",
    "\n",
    "        loss = hard_loss + self.alpha * soft_loss\n",
    "\n",
    "        preds = torch.softmax(student_preds, dim=-1)\n",
    "        self.log(\n",
    "            loss=loss.item(),\n",
    "            soft=soft_loss.item(),\n",
    "            hard=hard_loss.item(),\n",
    "            acc=self.acc(preds, label),\n",
    "            acc_5=self.acc_5(preds, label),\n",
    "        )\n",
    "\n",
    "        if stage == Stage.TRAIN:\n",
    "            return loss\n",
    "\n",
    "        return preds\n"
   ]
  },
  {
   "cell_type": "code",
   "execution_count": null,
   "metadata": {},
   "outputs": [],
   "source": [
    "student = StudentModule(teacher=teacher)\n",
    "student"
   ]
  },
  {
   "cell_type": "code",
   "execution_count": null,
   "metadata": {},
   "outputs": [],
   "source": [
    "from pyroml.models.utils import num_params\n",
    "\n",
    "\n",
    "t_params = num_params(teacher)\n",
    "s_params = num_params(student.student)\n",
    "\n",
    "f'Teacher = {t_params:,}, Student = {s_params:,}, Ratio = {100 * s_params / t_params:.3f}%'"
   ]
  },
  {
   "cell_type": "code",
   "execution_count": null,
   "metadata": {},
   "outputs": [],
   "source": [
    "from pyroml.callbacks.progress.tqdm_progress import TQDMProgress\n",
    "\n",
    "\n",
    "trainer = Trainer(\n",
    "    lr=0.001,\n",
    "    max_epochs=16,\n",
    "    batch_size=17,\n",
    "    evaluate_on=False,\n",
    "    dtype=torch.bfloat16,\n",
    "    callbacks=[TQDMProgress()],\n",
    ")\n",
    "tr_tracker = trainer.fit(student, tr_dataset=tr_feats_ds)"
   ]
  },
  {
   "cell_type": "code",
   "execution_count": null,
   "metadata": {},
   "outputs": [],
   "source": [
    "tr_tracker.plot(epoch=True)"
   ]
  },
  {
   "cell_type": "code",
   "execution_count": null,
   "metadata": {},
   "outputs": [],
   "source": [
    "import rich\n",
    "\n",
    "te_tracker = trainer.evaluate(model=student, dataset=te_feats_ds)\n",
    "\n",
    "rich.print(te_tracker.get_last_epoch_metrics())"
   ]
  }
 ],
 "metadata": {
  "kernelspec": {
   "display_name": ".venv",
   "language": "python",
   "name": "python3"
  },
  "language_info": {
   "codemirror_mode": {
    "name": "ipython",
    "version": 3
   },
   "file_extension": ".py",
   "mimetype": "text/x-python",
   "name": "python",
   "nbconvert_exporter": "python",
   "pygments_lexer": "ipython3",
   "version": "3.12.4"
  }
 },
 "nbformat": 4,
 "nbformat_minor": 2
}
